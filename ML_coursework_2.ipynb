{
 "cells": [
  {
   "cell_type": "code",
   "execution_count": 1,
   "metadata": {},
   "outputs": [],
   "source": [
    "import pandas as pd\n",
    "import numpy as np\n",
    "import matplotlib.pyplot as plt"
   ]
  },
  {
   "cell_type": "code",
   "execution_count": 10,
   "metadata": {},
   "outputs": [],
   "source": [
    "df = pd.read_csv(\"data/titanic/train.csv\")"
   ]
  },
  {
   "cell_type": "code",
   "execution_count": 38,
   "metadata": {},
   "outputs": [
    {
     "name": "stdout",
     "output_type": "stream",
     "text": [
      "<class 'pandas.core.frame.DataFrame'>\n",
      "Int64Index: 889 entries, 0 to 890\n",
      "Data columns (total 10 columns):\n",
      "Survived    889 non-null int64\n",
      "Pclass      889 non-null int64\n",
      "Sex         889 non-null int32\n",
      "SibSp       889 non-null int64\n",
      "Parch       889 non-null int64\n",
      "Fare        889 non-null float64\n",
      "C           889 non-null uint8\n",
      "Q           889 non-null uint8\n",
      "S           889 non-null uint8\n",
      "AgeSD       889 non-null float64\n",
      "dtypes: float64(2), int32(1), int64(4), uint8(3)\n",
      "memory usage: 94.7 KB\n",
      "Survived [0 1]\n",
      "Pclass [3 1 2]\n",
      "Sex [1 0]\n",
      "SibSp [1 0 3 4 2 5 8]\n",
      "Parch [0 1 2 5 3 4 6]\n",
      "Fare [  7.25    71.2833   7.925   53.1      8.05     8.4583  51.8625  21.075\n",
      "  11.1333  30.0708  16.7     26.55    31.275    7.8542  16.      29.125\n",
      "  13.      18.       7.225   26.       8.0292  35.5     31.3875 263.\n",
      "   7.8792   7.8958  27.7208 146.5208   7.75    10.5     82.1708  52.\n",
      "   7.2292  11.2417   9.475   21.      41.5792  15.5     21.6792  17.8\n",
      "  39.6875   7.8     76.7292  61.9792  27.75    46.9     83.475   27.9\n",
      "  15.2458   8.1583   8.6625  73.5     14.4542  56.4958   7.65    29.\n",
      "  12.475    9.       9.5      7.7875  47.1     15.85    34.375   61.175\n",
      "  20.575   34.6542  63.3583  23.      77.2875   8.6542   7.775   24.15\n",
      "   9.825   14.4583 247.5208   7.1417  22.3583   6.975    7.05    14.5\n",
      "  15.0458  26.2833   9.2167  79.2      6.75    11.5     36.75     7.7958\n",
      "  12.525   66.6      7.3125  61.3792   7.7333  69.55    16.1     15.75\n",
      "  20.525   55.      25.925   33.5     30.6958  25.4667  28.7125   0.\n",
      "  15.05    39.      22.025   50.       8.4042   6.4958  10.4625  18.7875\n",
      "  31.     113.275   27.      76.2917  90.       9.35    13.5      7.55\n",
      "  26.25    12.275    7.125   52.5542  20.2125  86.5    512.3292  79.65\n",
      " 153.4625 135.6333  19.5     29.7     77.9583  20.25    78.85    91.0792\n",
      "  12.875    8.85   151.55    30.5     23.25    12.35   110.8833 108.9\n",
      "  24.      56.9292  83.1583 262.375   14.     164.8667 134.5      6.2375\n",
      "  57.9792  28.5    133.65    15.9      9.225   35.      75.25    69.3\n",
      "  55.4417 211.5      4.0125 227.525   15.7417   7.7292  12.     120.\n",
      "  12.65    18.75     6.8583  32.5      7.875   14.4     55.9      8.1125\n",
      "  81.8583  19.2583  19.9667  89.1042  38.5      7.725   13.7917   9.8375\n",
      "   7.0458   7.5208  12.2875   9.5875  49.5042  78.2667  15.1      7.6292\n",
      "  22.525   26.2875  59.4      7.4958  34.0208  93.5    221.7792 106.425\n",
      "  49.5     71.      13.8625   7.8292  39.6     17.4     51.4792  26.3875\n",
      "  30.      40.125    8.7125  15.      33.      42.4     15.55    65.\n",
      "  32.3208   7.0542   8.4333  25.5875   9.8417   8.1375  10.1708 211.3375\n",
      "  57.      13.4167   7.7417   9.4833   7.7375   8.3625  23.45    25.9292\n",
      "   8.6833   8.5167   7.8875  37.0042   6.45     6.95     8.3      6.4375\n",
      "  39.4     14.1083  13.8583  50.4958   5.       9.8458  10.5167]\n",
      "C [0 1]\n",
      "Q [0 1]\n",
      "S [1 0]\n",
      "AgeSD [-5.90494928e-01  6.43971009e-01 -2.81878444e-01  4.12508646e-01\n",
      "  3.52372719e-03  1.87843695e+00 -2.13357735e+00 -2.04724323e-01\n",
      " -1.20772790e+00 -1.97926911e+00  2.18705343e+00 -7.44803170e-01\n",
      "  7.21125131e-01  1.95559107e+00  1.03892162e-01  3.35354525e-01\n",
      " -1.13057378e+00 -1.27570202e-01 -1.67065262e+00 -8.21957291e-01\n",
      "  7.98279252e-01  2.80428640e+00  9.52587494e-01 -6.67649049e-01\n",
      " -8.99111412e-01 -2.05642323e+00 -1.74780674e+00  1.49266634e+00\n",
      " -5.04160804e-02  2.72713228e+00 -8.89931410e-02 -1.90211499e+00\n",
      " -1.43919026e+00  1.18404986e+00 -9.76265534e-01  1.81046283e-01\n",
      " -1.05341965e+00 -3.59032565e-01 -2.22384767e+00  2.67380407e-02\n",
      "  2.58200404e-01 -5.13340807e-01 -4.36186686e-01  1.26120398e+00\n",
      "  2.26420755e+00  3.19005701e+00  5.66816888e-01  1.33835810e+00\n",
      " -1.16915084e+00  3.15147995e+00  2.19623343e-01 -1.36203614e+00\n",
      " -1.59349850e+00  5.28239828e-01  1.64697458e+00  1.99416813e+00\n",
      "  8.36856312e-01  1.10689574e+00 -2.21073147e+00  2.41851579e+00\n",
      "  2.03274519e+00  1.56982046e+00  4.89662767e-01  1.22262692e+00\n",
      " -7.06226110e-01  2.49566992e+00  8.75433373e-01  1.72412870e+00\n",
      "  2.57282404e+00 -4.74763746e-01 -2.21690380e+00  1.02974161e+00\n",
      "  2.34136167e+00 -1.51634438e+00  2.64997816e+00 -1.28488202e+00\n",
      "  1.41551222e+00 -2.23002000e+00  1.80128283e+00  2.10989931e+00\n",
      "  3.88444410e+00  3.11290288e+00 -3.97609625e-01 -1.82496087e+00\n",
      " -2.23619233e+00  6.53151012e-02 -2.25548086e+00  3.73931586e-01\n",
      "  3.42151937e+00]\n"
     ]
    }
   ],
   "source": [
    "df.info()\n",
    "c = df.columns\n",
    "for i in c:\n",
    "    print(i,df[i].unique())"
   ]
  },
  {
   "cell_type": "code",
   "execution_count": 12,
   "metadata": {},
   "outputs": [
    {
     "data": {
      "text/plain": [
       "<matplotlib.axes._subplots.AxesSubplot at 0x1c8b5b60be0>"
      ]
     },
     "execution_count": 12,
     "metadata": {},
     "output_type": "execute_result"
    },
    {
     "data": {
      "image/png": "[encoded data removed]",
      "text/plain": [
       "<Figure size 432x288 with 1 Axes>"
      ]
     },
     "metadata": {
      "needs_background": "light"
     },
     "output_type": "display_data"
    }
   ],
   "source": [
    "df.Age.hist()"
   ]
  },
  {
   "cell_type": "code",
   "execution_count": 14,
   "metadata": {},
   "outputs": [],
   "source": [
    "ageAv = df.Age.mean()"
   ]
  },
  {
   "cell_type": "code",
   "execution_count": 16,
   "metadata": {},
   "outputs": [],
   "source": [
    "df.Age = df.Age.fillna(ageAv)"
   ]
  },
  {
   "cell_type": "code",
   "execution_count": 19,
   "metadata": {},
   "outputs": [],
   "source": [
    "df.drop(['Cabin'],axis = 1, inplace = True)"
   ]
  },
  {
   "cell_type": "code",
   "execution_count": 23,
   "metadata": {},
   "outputs": [],
   "source": [
    "df = df.dropna()"
   ]
  },
  {
   "cell_type": "code",
   "execution_count": 25,
   "metadata": {},
   "outputs": [
    {
     "name": "stderr",
     "output_type": "stream",
     "text": [
      "C:\\Users\\freakylemon\\Anaconda3\\lib\\site-packages\\ipykernel_launcher.py:1: SettingWithCopyWarning: \n",
      "A value is trying to be set on a copy of a slice from a DataFrame.\n",
      "Try using .loc[row_indexer,col_indexer] = value instead\n",
      "\n",
      "See the caveats in the documentation: http://pandas.pydata.org/pandas-docs/stable/indexing.html#indexing-view-versus-copy\n",
      "  \"\"\"Entry point for launching an IPython kernel.\n"
     ]
    }
   ],
   "source": [
    "df['Sex'] = (df['Sex']=='male').astype(np.int)"
   ]
  },
  {
   "cell_type": "markdown",
   "metadata": {},
   "source": [
    "drop features that seem not usable"
   ]
  },
  {
   "cell_type": "code",
   "execution_count": 29,
   "metadata": {},
   "outputs": [],
   "source": [
    "df = df.drop(['Name'],axis =1)"
   ]
  },
  {
   "cell_type": "code",
   "execution_count": 30,
   "metadata": {},
   "outputs": [],
   "source": [
    "df = df.drop(['Ticket'],axis =1)"
   ]
  },
  {
   "cell_type": "code",
   "execution_count": 33,
   "metadata": {},
   "outputs": [],
   "source": [
    "df = df.drop(['PassengerId'],axis=1)"
   ]
  },
  {
   "cell_type": "markdown",
   "metadata": {},
   "source": [
    "'dummy' embarked feature"
   ]
  },
  {
   "cell_type": "code",
   "execution_count": 34,
   "metadata": {},
   "outputs": [],
   "source": [
    "oh_ = pd.get_dummies(df['Embarked'])\n",
    "df = df.join(oh_)\n",
    "df = df.drop(['Embarked'],axis=1)"
   ]
  },
  {
   "cell_type": "markdown",
   "metadata": {},
   "source": [
    "perform standardise"
   ]
  },
  {
   "cell_type": "code",
   "execution_count": 36,
   "metadata": {},
   "outputs": [],
   "source": [
    "from sklearn.preprocessing import StandardScaler\n",
    "df['AgeSD'] = StandardScaler().fit_transform(df.Age.values.reshape(-1,1))"
   ]
  },
  {
   "cell_type": "code",
   "execution_count": 37,
   "metadata": {},
   "outputs": [],
   "source": [
    "df = df.drop(['Age'],axis=1)"
   ]
  },
  {
   "cell_type": "code",
   "execution_count": null,
   "metadata": {},
   "outputs": [],
   "source": []
  },
  {
   "cell_type": "markdown",
   "metadata": {},
   "source": [
    "perform train test split?"
   ]
  },
  {
   "cell_type": "code",
   "execution_count": 41,
   "metadata": {},
   "outputs": [],
   "source": [
    "from sklearn.model_selection import train_test_split"
   ]
  },
  {
   "cell_type": "code",
   "execution_count": 42,
   "metadata": {},
   "outputs": [],
   "source": [
    "X = df.drop(['Survived'],axis=1)\n",
    "y = df['Survived']"
   ]
  },
  {
   "cell_type": "code",
   "execution_count": 43,
   "metadata": {},
   "outputs": [],
   "source": [
    "X_train,X_test,y_train,y_test = train_test_split(X,y,test_size=0.30,random_state=9999)"
   ]
  },
  {
   "cell_type": "code",
   "execution_count": null,
   "metadata": {},
   "outputs": [],
   "source": []
  },
  {
   "cell_type": "code",
   "execution_count": null,
   "metadata": {},
   "outputs": [],
   "source": []
  },
  {
   "cell_type": "markdown",
   "metadata": {},
   "source": [
    "start with the classification"
   ]
  },
  {
   "cell_type": "code",
   "execution_count": 39,
   "metadata": {},
   "outputs": [],
   "source": [
    "from sklearn.linear_model import LogisticRegression"
   ]
  },
  {
   "cell_type": "code",
   "execution_count": 76,
   "metadata": {},
   "outputs": [],
   "source": [
    "logRe = LogisticRegression(solver='newton-cg', max_iter = 10000)\n",
    "# str, {‘newton-cg’, ‘lbfgs’, ‘liblinear’, ‘sag’, ‘saga’}, default: ‘liblinear’."
   ]
  },
  {
   "cell_type": "code",
   "execution_count": 46,
   "metadata": {},
   "outputs": [
    {
     "name": "stderr",
     "output_type": "stream",
     "text": [
      "C:\\Users\\freakylemon\\Anaconda3\\lib\\site-packages\\sklearn\\linear_model\\logistic.py:758: ConvergenceWarning: lbfgs failed to converge. Increase the number of iterations.\n",
      "  \"of iterations.\", ConvergenceWarning)\n"
     ]
    },
    {
     "data": {
      "text/plain": [
       "LogisticRegression(C=1.0, class_weight=None, dual=False, fit_intercept=True,\n",
       "          intercept_scaling=1, max_iter=100, multi_class='warn',\n",
       "          n_jobs=None, penalty='l2', random_state=None, solver='lbfgs',\n",
       "          tol=0.0001, verbose=0, warm_start=False)"
      ]
     },
     "execution_count": 46,
     "metadata": {},
     "output_type": "execute_result"
    }
   ],
   "source": [
    "logRe.fit(X_train,y_train)"
   ]
  },
  {
   "cell_type": "code",
   "execution_count": 47,
   "metadata": {},
   "outputs": [
    {
     "data": {
      "text/plain": [
       "array([[-1.13756386, -2.65422573, -0.37860555,  0.04361484,  0.00477844,\n",
       "         0.84428929,  0.86803028,  0.57845842, -0.53114142]])"
      ]
     },
     "execution_count": 47,
     "metadata": {},
     "output_type": "execute_result"
    }
   ],
   "source": [
    "logRe.coef_"
   ]
  },
  {
   "cell_type": "code",
   "execution_count": 48,
   "metadata": {},
   "outputs": [
    {
     "data": {
      "text/plain": [
       "array([2.97014992])"
      ]
     },
     "execution_count": 48,
     "metadata": {},
     "output_type": "execute_result"
    }
   ],
   "source": [
    "logRe.intercept_"
   ]
  },
  {
   "cell_type": "code",
   "execution_count": 60,
   "metadata": {},
   "outputs": [],
   "source": [
    "y_pred = (logRe.predict(X_train))"
   ]
  },
  {
   "cell_type": "code",
   "execution_count": 58,
   "metadata": {},
   "outputs": [
    {
     "data": {
      "text/plain": [
       "0    0.811897\n",
       "Name: Survived, dtype: float64"
      ]
     },
     "execution_count": 58,
     "metadata": {},
     "output_type": "execute_result"
    }
   ],
   "source": [
    "# (res[res == 0].value_counts()/len(y_train))"
   ]
  },
  {
   "cell_type": "markdown",
   "metadata": {},
   "source": [
    "confusion matrix"
   ]
  },
  {
   "cell_type": "code",
   "execution_count": 78,
   "metadata": {},
   "outputs": [],
   "source": [
    "from sklearn.metrics import confusion_matrix, classification_report"
   ]
  },
  {
   "cell_type": "markdown",
   "metadata": {},
   "source": [
    "insample"
   ]
  },
  {
   "cell_type": "code",
   "execution_count": 61,
   "metadata": {},
   "outputs": [
    {
     "name": "stdout",
     "output_type": "stream",
     "text": [
      "[[340  67]\n",
      " [ 50 165]]\n"
     ]
    }
   ],
   "source": [
    "print(confusion_matrix(y_pred,y_train))"
   ]
  },
  {
   "cell_type": "code",
   "execution_count": 63,
   "metadata": {},
   "outputs": [],
   "source": [
    "y_pred_test = logRe.predict(X_test)"
   ]
  },
  {
   "cell_type": "code",
   "execution_count": 79,
   "metadata": {},
   "outputs": [
    {
     "name": "stdout",
     "output_type": "stream",
     "text": [
      "[[138  37]\n",
      " [ 21  71]]               precision    recall  f1-score   support\n",
      "\n",
      "           0       0.79      0.87      0.83       159\n",
      "           1       0.77      0.66      0.71       108\n",
      "\n",
      "   micro avg       0.78      0.78      0.78       267\n",
      "   macro avg       0.78      0.76      0.77       267\n",
      "weighted avg       0.78      0.78      0.78       267\n",
      "\n"
     ]
    }
   ],
   "source": [
    "print(confusion_matrix(y_pred_test,y_test),\n",
    "     classification_report(y_test,y_pred_test))"
   ]
  },
  {
   "cell_type": "code",
   "execution_count": null,
   "metadata": {},
   "outputs": [],
   "source": []
  },
  {
   "cell_type": "markdown",
   "metadata": {},
   "source": [
    "to calculate the accuracy, precision, recall"
   ]
  },
  {
   "cell_type": "code",
   "execution_count": null,
   "metadata": {},
   "outputs": [],
   "source": []
  },
  {
   "cell_type": "code",
   "execution_count": null,
   "metadata": {},
   "outputs": [],
   "source": []
  },
  {
   "cell_type": "markdown",
   "metadata": {},
   "source": [
    "excluding one feature at a time:"
   ]
  },
  {
   "cell_type": "code",
   "execution_count": 66,
   "metadata": {},
   "outputs": [],
   "source": [
    "allFea = df.columns"
   ]
  },
  {
   "cell_type": "code",
   "execution_count": 71,
   "metadata": {},
   "outputs": [],
   "source": [
    "feaLst = []\n",
    "for i in allFea:\n",
    "    feaLst.append(i)"
   ]
  },
  {
   "cell_type": "code",
   "execution_count": 72,
   "metadata": {},
   "outputs": [],
   "source": [
    "feaLst.remove('Survived')"
   ]
  },
  {
   "cell_type": "code",
   "execution_count": 80,
   "metadata": {},
   "outputs": [
    {
     "name": "stdout",
     "output_type": "stream",
     "text": [
      "Pclass [[138  37]\n",
      " [ 21  71]]               precision    recall  f1-score   support\n",
      "\n",
      "           0       0.79      0.87      0.83       159\n",
      "           1       0.77      0.66      0.71       108\n",
      "\n",
      "   micro avg       0.78      0.78      0.78       267\n",
      "   macro avg       0.78      0.76      0.77       267\n",
      "weighted avg       0.78      0.78      0.78       267\n",
      "\n",
      "Sex [[138  37]\n",
      " [ 21  71]]               precision    recall  f1-score   support\n",
      "\n",
      "           0       0.79      0.87      0.83       159\n",
      "           1       0.77      0.66      0.71       108\n",
      "\n",
      "   micro avg       0.78      0.78      0.78       267\n",
      "   macro avg       0.78      0.76      0.77       267\n",
      "weighted avg       0.78      0.78      0.78       267\n",
      "\n",
      "SibSp [[138  37]\n",
      " [ 21  71]]               precision    recall  f1-score   support\n",
      "\n",
      "           0       0.79      0.87      0.83       159\n",
      "           1       0.77      0.66      0.71       108\n",
      "\n",
      "   micro avg       0.78      0.78      0.78       267\n",
      "   macro avg       0.78      0.76      0.77       267\n",
      "weighted avg       0.78      0.78      0.78       267\n",
      "\n",
      "Parch [[138  37]\n",
      " [ 21  71]]               precision    recall  f1-score   support\n",
      "\n",
      "           0       0.79      0.87      0.83       159\n",
      "           1       0.77      0.66      0.71       108\n",
      "\n",
      "   micro avg       0.78      0.78      0.78       267\n",
      "   macro avg       0.78      0.76      0.77       267\n",
      "weighted avg       0.78      0.78      0.78       267\n",
      "\n",
      "Fare [[138  37]\n",
      " [ 21  71]]               precision    recall  f1-score   support\n",
      "\n",
      "           0       0.79      0.87      0.83       159\n",
      "           1       0.77      0.66      0.71       108\n",
      "\n",
      "   micro avg       0.78      0.78      0.78       267\n",
      "   macro avg       0.78      0.76      0.77       267\n",
      "weighted avg       0.78      0.78      0.78       267\n",
      "\n",
      "C [[138  37]\n",
      " [ 21  71]]               precision    recall  f1-score   support\n",
      "\n",
      "           0       0.79      0.87      0.83       159\n",
      "           1       0.77      0.66      0.71       108\n",
      "\n",
      "   micro avg       0.78      0.78      0.78       267\n",
      "   macro avg       0.78      0.76      0.77       267\n",
      "weighted avg       0.78      0.78      0.78       267\n",
      "\n",
      "Q [[138  37]\n",
      " [ 21  71]]               precision    recall  f1-score   support\n",
      "\n",
      "           0       0.79      0.87      0.83       159\n",
      "           1       0.77      0.66      0.71       108\n",
      "\n",
      "   micro avg       0.78      0.78      0.78       267\n",
      "   macro avg       0.78      0.76      0.77       267\n",
      "weighted avg       0.78      0.78      0.78       267\n",
      "\n",
      "S [[138  37]\n",
      " [ 21  71]]               precision    recall  f1-score   support\n",
      "\n",
      "           0       0.79      0.87      0.83       159\n",
      "           1       0.77      0.66      0.71       108\n",
      "\n",
      "   micro avg       0.78      0.78      0.78       267\n",
      "   macro avg       0.78      0.76      0.77       267\n",
      "weighted avg       0.78      0.78      0.78       267\n",
      "\n",
      "AgeSD [[138  37]\n",
      " [ 21  71]]               precision    recall  f1-score   support\n",
      "\n",
      "           0       0.79      0.87      0.83       159\n",
      "           1       0.77      0.66      0.71       108\n",
      "\n",
      "   micro avg       0.78      0.78      0.78       267\n",
      "   macro avg       0.78      0.76      0.77       267\n",
      "weighted avg       0.78      0.78      0.78       267\n",
      "\n"
     ]
    }
   ],
   "source": [
    "for i in feaLst:\n",
    "    X = df.drop([i],axis=1)\n",
    "    y = df['Survived']\n",
    "    X = df.drop(['Survived'],axis=1)\n",
    "    X_train,X_test,y_train,y_test = train_test_split(X,y,test_size=0.30,random_state=9999)\n",
    "    logRe.fit(X_train, y_train)\n",
    "    y_pred = logRe.predict(X_train)\n",
    "    \n",
    "    y_pred_test = logRe.predict(X_test)\n",
    "    print(i,\n",
    "          confusion_matrix(y_pred_test,y_test),\n",
    "          classification_report(y_test,y_pred_test))\n",
    "    "
   ]
  }
 ],
 "metadata": {
  "kernelspec": {
   "display_name": "Python 3",
   "language": "python",
   "name": "python3"
  },
  "language_info": {
   "codemirror_mode": {
    "name": "ipython",
    "version": 3
   },
   "file_extension": ".py",
   "mimetype": "text/x-python",
   "name": "python",
   "nbconvert_exporter": "python",
   "pygments_lexer": "ipython3",
   "version": "3.7.1"
  }
 },
 "nbformat": 4,
 "nbformat_minor": 2
}
